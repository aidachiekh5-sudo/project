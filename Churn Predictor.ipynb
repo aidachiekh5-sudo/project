{
 "cells": [
  {
   "cell_type": "code",
   "execution_count": 2,
   "id": "358f8914-eda8-4365-b099-36ba07ca4256",
   "metadata": {},
   "outputs": [
    {
     "name": "stdout",
     "output_type": "stream",
     "text": [
      "C:\\Users\\Parth Badani\\Anaconda3\\envs\\snowpark_env\\python.exe\n",
      "C:\\Users\\Parth Badani\\AppData\\Local\\Programs\\Python\\Python312\\python.exe\n"
     ]
    }
   ],
   "source": [
    "!where python"
   ]
  },
  {
   "cell_type": "code",
   "execution_count": 3,
   "id": "0db9e5de-3d18-4829-aca5-d5c41107294e",
   "metadata": {},
   "outputs": [],
   "source": [
    "import pandas as pd\n",
    "import numpy as np\n",
    "from datetime import datetime, timedelta\n",
    "import random"
   ]
  },
  {
   "cell_type": "code",
   "execution_count": 4,
   "id": "e6b2b1b4-3804-425e-b9d4-555aa84c9d26",
   "metadata": {},
   "outputs": [],
   "source": [
    "# Set random seed for reproducibility\n",
    "np.random.seed(42)"
   ]
  },
  {
   "cell_type": "code",
   "execution_count": 5,
   "id": "2ff3b58e-6499-4822-b412-d4c83ac94344",
   "metadata": {},
   "outputs": [],
   "source": [
    "# Helper functions\n",
    "def generate_company_name():\n",
    "    prefixes = ['Tech', 'Global', 'Digital', 'Smart', 'Cloud', 'Next', 'Pro', 'Elite', 'Prime', 'Advanced', 'Logix', 'Coinbase', 'Tex', 'Upstox', 'Helix', 'Genpax', 'Revox', 'Anatoly', 'Bart', 'Celtix', 'Datadex', 'Eulog', 'Frax', 'Gintar', 'Iannis', 'Jenix', 'Kraft', 'Lacer', 'Minex', 'Nagel', 'Onyx', 'Practo', 'Qestar', 'Radex', 'Sweller', 'Tiger']\n",
    "    suffixes = ['Solutions', 'Systems', 'Technologies', 'Services', 'Innovations', 'Dynamics', 'Labs', 'Group', 'Corp', 'Inc']\n",
    "    return f\"{random.choice(prefixes)}{random.choice(suffixes)}\"\n",
    "\n",
    "def generate_dates(start_date, n_customers):\n",
    "    # Generate subscription start dates\n",
    "    start_dates = [start_date + timedelta(days=random.randint(0, 365*2)) for _ in range(n_customers)]\n",
    "\n",
    "    # Generate end dates (Some will be None for active subscriptions)\n",
    "    end_dates = []\n",
    "    for start in start_dates:\n",
    "        if random.random() < 0.15:  # 15% churn rate\n",
    "            end_dates.append(start + timedelta(days=random.randint(30, 365)))\n",
    "        else:\n",
    "            end_dates.append(None)\n",
    "    return start_dates, end_dates"
   ]
  },
  {
   "cell_type": "code",
   "execution_count": 7,
   "id": "ba31a9f8-dfec-416e-8e3b-37fa02f4c21c",
   "metadata": {},
   "outputs": [],
   "source": [
    "# Generate Customer Account Details\n",
    "n_customers = 5000\n",
    "\n",
    "# Define company size segments\n",
    "company_sizes = {\n",
    "    'SMB': (10, 100),\n",
    "    'Mid-Market': (101, 500),\n",
    "    'Enterprise': (501, 5000)\n",
    "}\n",
    "\n",
    "# Generate customer accounts\n",
    "customer_accounts = {\n",
    "    'customer_id': range(1, n_customers + 1),\n",
    "    'company_name': [generate_company_name() for _ in range(n_customers)],\n",
    "    'segment': np.random.choice(['SMB', 'Mid-Market', 'Enterprise'],\n",
    "                              n_customers, p=[0.65, 0.20, 0.15]),\n",
    "    'industry': np.random.choice(['Technology', 'Retail', 'Manufacturing', 'Healthcare',\n",
    "                                'Financial Services/Fintech', 'Education', 'Professional Services',\n",
    "                                'Media', 'Real Estate', 'Logistics'],\n",
    "                               n_customers),\n",
    "    'country': np.random.choice(['USA', 'UK', 'Canada', 'Australia', 'Germany',\n",
    "                               'France', 'India', 'Singapore', 'Japan', 'Brazil'],\n",
    "                              n_customers, p=[0.3, 0.15, 0.1, 0.1, 0.08, 0.07, 0.07, 0.05, 0.05, 0.03])\n",
    "}\n",
    "\n",
    "# Add company size based on segment\n",
    "customer_accounts['company_size'] = [\n",
    "    random.randint(*company_sizes[seg]) for seg in customer_accounts['segment']\n",
    "]\n",
    "\n",
    "# Create customer accounts DataFrame\n",
    "df_customers = pd.DataFrame(customer_accounts)\n",
    "\n",
    "# Generate Subscription Details\n",
    "subscription_plans = {\n",
    "    'Growth': {'base_price': 15, 'max_seats': 70},\n",
    "    'Pro': {'base_price': 49, 'max_seats': 150},\n",
    "    'Enterprise': {'base_price': 99, 'max_seats': 100}\n",
    "}\n",
    "\n",
    "start_date = datetime(2022, 1, 1)\n",
    "start_dates, end_dates = generate_dates(start_date, n_customers)\n",
    "\n",
    "subscriptions = {\n",
    "    'customer_id': range(1, n_customers + 1),\n",
    "    'plan': np.random.choice(['Growth', 'Pro', 'Enterprise'],\n",
    "                           n_customers, p=[0.5, 0.3, 0.2]),\n",
    "    'start_date': start_dates,\n",
    "    'end_date': end_dates,\n",
    "    'is_active': [end_date is None for end_date in end_dates]\n",
    "}"
   ]
  },
  {
   "cell_type": "code",
   "execution_count": 10,
   "id": "87740a38-5000-42ba-a9c8-e1551cd383b6",
   "metadata": {},
   "outputs": [],
   "source": [
    "# Add number of seats and calculate MRR\n",
    "subscriptions['seats'] = [\n",
    "    random.randint(5, subscription_plans[plan]['max_seats'])\n",
    "    for plan in subscriptions['plan']\n",
    "]\n",
    "\n",
    "subscriptions['mrr'] = [\n",
    "    subscription_plans[plan]['base_price'] * seats\n",
    "    for plan, seats in zip(subscriptions['plan'], subscriptions['seats'])\n",
    "]\n",
    "\n",
    "df_subscriptions = pd.DataFrame(subscriptions)\n",
    "\n",
    "# Generate Usage Metrics (Monthly)\n",
    "def generate_monthly_usage(n_months, base_logins, base_tickets, trend='stable'):\n",
    "    # Convert n_months to integer\n",
    "    n_months = max(1, int(n_months))  # Ensure at least 1 month and convert to integer\n",
    "\n",
    "    if trend == 'increasing':\n",
    "        multiplier = np.linspace(1, 1.5, n_months)\n",
    "    elif trend == 'decreasing':\n",
    "        multiplier = np.linspace(1, 0.5, n_months)\n",
    "    else:\n",
    "        multiplier = np.ones(n_months)\n",
    "\n",
    "    logins = np.random.normal(base_logins, base_logins * 0.1, n_months) * multiplier\n",
    "    tickets = np.random.normal(base_tickets, base_tickets * 0.1, n_months) * multiplier\n",
    "    return logins, tickets\n",
    "\n",
    "usage_data = []\n",
    "current_date = datetime.now()\n",
    "\n",
    "for idx, row in df_subscriptions.iterrows():\n",
    "    start_date = row['start_date']\n",
    "\n",
    "    # Handle end_date properly\n",
    "    if pd.isna(row['end_date']):\n",
    "        end_date = current_date\n",
    "    else:\n",
    "        end_date = row['end_date']\n",
    "\n",
    "    # Calculate months difference\n",
    "    months_diff = ((end_date.year - start_date.year) * 12 +\n",
    "                  (end_date.month - start_date.month))\n",
    "    n_months = max(1, int(months_diff))\n",
    "\n",
    "    # Base usage metrics based on plan\n",
    "    if row['plan'] == 'Enterprise':\n",
    "        base_logins, base_tickets = 1000, 500\n",
    "    elif row['plan'] == 'Pro':\n",
    "        base_logins, base_tickets = 500, 250\n",
    "    else:\n",
    "        base_logins, base_tickets = 200, 100\n",
    "\n",
    "    # Generate monthly usage with random trend\n",
    "    trend = np.random.choice(['stable', 'increasing', 'decreasing'], p=[0.6, 0.2, 0.2])\n",
    "    logins, tickets = generate_monthly_usage(n_months, base_logins, base_tickets, trend)\n",
    "\n",
    "    for month in range(n_months):\n",
    "        current_date = start_date + timedelta(days=30*month)\n",
    "        usage_data.append({\n",
    "            'customer_id': row['customer_id'],\n",
    "            'month': current_date,\n",
    "            'logins': int(max(0, logins[month])),\n",
    "            'tickets_raised': int(max(0, tickets[month])),\n",
    "            'feature_usage_score': random.uniform(0, 100)\n",
    "        })\n",
    "\n",
    "df_usage = pd.DataFrame(usage_data)"
   ]
  },
  {
   "cell_type": "code",
   "execution_count": 11,
   "id": "e9d65822-5b4a-4ae9-bdff-d60e43d02287",
   "metadata": {},
   "outputs": [
    {
     "name": "stdout",
     "output_type": "stream",
     "text": [
      "\n",
      "Customer Accounts Sample:\n",
      "   customer_id        company_name segment                    industry  \\\n",
      "0            1           CeltixInc     SMB  Financial Services/Fintech   \n",
      "1            2         ProDynamics     SMB       Professional Services   \n",
      "2            3     DatadexServices     SMB                   Education   \n",
      "3            4       NextSolutions     SMB  Financial Services/Fintech   \n",
      "4            5  DigitalInnovations     SMB                  Healthcare   \n",
      "\n",
      "     country  company_size  \n",
      "0     France            81  \n",
      "1      Japan            80  \n",
      "2  Singapore            28  \n",
      "3     Canada            48  \n",
      "4  Australia            11  \n",
      "\n",
      "Subscriptions Sample:\n",
      "   customer_id    plan start_date   end_date  is_active  seats   mrr\n",
      "0            1  Growth 2023-11-04        NaT       True     14   210\n",
      "1            2  Growth 2022-01-31        NaT       True     41   615\n",
      "2            3     Pro 2022-09-08 2023-06-16      False    132  6468\n",
      "3            4  Growth 2023-03-24        NaT       True     52   780\n",
      "4            5  Growth 2022-09-21        NaT       True     60   900\n",
      "\n",
      "Usage Metrics Sample:\n",
      "   customer_id      month  logins  tickets_raised  feature_usage_score\n",
      "0            1 2023-11-04     241             105            88.911284\n",
      "1            1 2023-12-04     198             105            71.682812\n",
      "2            1 2024-01-03     199              85            14.654077\n",
      "3            1 2024-02-02     176              93            35.156376\n",
      "4            1 2024-03-03     216             109            86.437997\n",
      "\n",
      "Summary Statistics:\n",
      "Total Customers: 5000\n",
      "Active Subscriptions: 4217\n",
      "Average MRR: $2475.53\n",
      "Total MRR: $10434556.00\n"
     ]
    }
   ],
   "source": [
    "# Save to CSV files\n",
    "df_customers.to_csv('customer_accounts.csv', index=False)\n",
    "df_subscriptions.to_csv('subscriptions.csv', index=False)\n",
    "df_usage.to_csv('usage_metrics.csv', index=False)\n",
    "\n",
    "# Print sample data and summary statistics\n",
    "print(\"\\nCustomer Accounts Sample:\")\n",
    "print(df_customers.head())\n",
    "print(\"\\nSubscriptions Sample:\")\n",
    "print(df_subscriptions.head())\n",
    "print(\"\\nUsage Metrics Sample:\")\n",
    "print(df_usage.head())\n",
    "\n",
    "# Print summary statistics\n",
    "print(\"\\nSummary Statistics:\")\n",
    "print(f\"Total Customers: {len(df_customers)}\")\n",
    "print(f\"Active Subscriptions: {df_subscriptions['is_active'].sum()}\")\n",
    "print(f\"Average MRR: ${df_subscriptions['mrr'].mean():.2f}\")\n",
    "print(f\"Total MRR: ${df_subscriptions[df_subscriptions['is_active']]['mrr'].sum():.2f}\")"
   ]
  },
  {
   "cell_type": "code",
   "execution_count": 15,
   "id": "77e650e0-17b8-4d52-8ad0-549b6d4bfc61",
   "metadata": {},
   "outputs": [
    {
     "name": "stdout",
     "output_type": "stream",
     "text": [
      "Current working directory: C:\\Users\\Parth Badani\n"
     ]
    }
   ],
   "source": [
    "import os\n",
    "print(\"Current working directory:\", os.getcwd())"
   ]
  },
  {
   "cell_type": "code",
   "execution_count": 17,
   "id": "352cf387-e261-44ed-8457-1d3b1b0c9c48",
   "metadata": {},
   "outputs": [
    {
     "name": "stdout",
     "output_type": "stream",
     "text": [
      "Requirement already satisfied: snowflake-connector-python in c:\\users\\parth badani\\anaconda3\\envs\\snowpark_env\\lib\\site-packages (3.12.4)\n",
      "Requirement already satisfied: asn1crypto<2.0.0,>0.24.0 in c:\\users\\parth badani\\anaconda3\\envs\\snowpark_env\\lib\\site-packages (from snowflake-connector-python) (1.5.1)\n",
      "Requirement already satisfied: cffi<2.0.0,>=1.9 in c:\\users\\parth badani\\appdata\\roaming\\python\\python38\\site-packages (from snowflake-connector-python) (1.15.1)\n",
      "Requirement already satisfied: cryptography>=3.1.0 in c:\\users\\parth badani\\anaconda3\\envs\\snowpark_env\\lib\\site-packages (from snowflake-connector-python) (44.0.0)\n",
      "Requirement already satisfied: pyOpenSSL<25.0.0,>=22.0.0 in c:\\users\\parth badani\\anaconda3\\envs\\snowpark_env\\lib\\site-packages (from snowflake-connector-python) (24.3.0)\n",
      "Requirement already satisfied: pyjwt<3.0.0 in c:\\users\\parth badani\\anaconda3\\envs\\snowpark_env\\lib\\site-packages (from snowflake-connector-python) (2.9.0)\n",
      "Requirement already satisfied: pytz in c:\\users\\parth badani\\appdata\\roaming\\python\\python38\\site-packages (from snowflake-connector-python) (2023.3)\n",
      "Requirement already satisfied: requests<3.0.0 in c:\\users\\parth badani\\appdata\\roaming\\python\\python38\\site-packages (from snowflake-connector-python) (2.31.0)\n",
      "Requirement already satisfied: packaging in c:\\users\\parth badani\\appdata\\roaming\\python\\python38\\site-packages (from snowflake-connector-python) (23.1)\n",
      "Requirement already satisfied: charset-normalizer<4,>=2 in c:\\users\\parth badani\\appdata\\roaming\\python\\python38\\site-packages (from snowflake-connector-python) (3.2.0)\n",
      "Requirement already satisfied: idna<4,>=2.5 in c:\\users\\parth badani\\appdata\\roaming\\python\\python38\\site-packages (from snowflake-connector-python) (3.4)\n",
      "Requirement already satisfied: certifi>=2017.4.17 in c:\\users\\parth badani\\appdata\\roaming\\python\\python38\\site-packages (from snowflake-connector-python) (2023.7.22)\n",
      "Requirement already satisfied: typing-extensions<5,>=4.3 in c:\\users\\parth badani\\appdata\\roaming\\python\\python38\\site-packages (from snowflake-connector-python) (4.7.1)\n",
      "Requirement already satisfied: filelock<4,>=3.5 in c:\\users\\parth badani\\anaconda3\\envs\\snowpark_env\\lib\\site-packages (from snowflake-connector-python) (3.16.1)\n",
      "Requirement already satisfied: sortedcontainers>=2.4.0 in c:\\users\\parth badani\\anaconda3\\envs\\snowpark_env\\lib\\site-packages (from snowflake-connector-python) (2.4.0)\n",
      "Requirement already satisfied: platformdirs<5.0.0,>=2.6.0 in c:\\users\\parth badani\\appdata\\roaming\\python\\python38\\site-packages (from snowflake-connector-python) (3.10.0)\n",
      "Requirement already satisfied: tomlkit in c:\\users\\parth badani\\anaconda3\\envs\\snowpark_env\\lib\\site-packages (from snowflake-connector-python) (0.13.2)\n",
      "Requirement already satisfied: urllib3<2.0.0,>=1.21.1 in c:\\users\\parth badani\\anaconda3\\envs\\snowpark_env\\lib\\site-packages (from snowflake-connector-python) (1.26.20)\n",
      "Requirement already satisfied: pycparser in c:\\users\\parth badani\\appdata\\roaming\\python\\python38\\site-packages (from cffi<2.0.0,>=1.9->snowflake-connector-python) (2.21)\n"
     ]
    }
   ],
   "source": [
    "!pip install snowflake-connector-python"
   ]
  },
  {
   "cell_type": "code",
   "execution_count": null,
   "id": "ef8253c8-d215-43f7-ac44-cba8aca63ea4",
   "metadata": {},
   "outputs": [],
   "source": []
  },
  {
   "cell_type": "markdown",
   "id": "2a0315a2-ea2f-4df9-805d-c70b2bc0c2f6",
   "metadata": {},
   "source": [
    "Now we work on modeling the existing and engineered features to predict the variables factoring towards customer behaviour of churning"
   ]
  },
  {
   "cell_type": "code",
   "execution_count": 20,
   "id": "48f72feb-97c6-414b-bf93-02228ce4fea0",
   "metadata": {},
   "outputs": [
    {
     "name": "stdout",
     "output_type": "stream",
     "text": [
      "   CUSTOMER_ID SEGMENT                    INDUSTRY    COUNTRY    PLAN   MRR  \\\n",
      "0            1     SMB  Financial Services/Fintech     France  Growth   210   \n",
      "1            2     SMB       Professional Services      Japan  Growth   615   \n",
      "2            3     SMB                   Education  Singapore     Pro  6468   \n",
      "3            4     SMB  Financial Services/Fintech     Canada  Growth   780   \n",
      "4            5     SMB                  Healthcare  Australia  Growth   900   \n",
      "\n",
      "   SUBSCRIPTION_DURATION CUSTOMER_STATUS  CHURN_LABEL  AVG_MONTHLY_LOGINS  \\\n",
      "0                    436          Active            0          207.071429   \n",
      "1                   1078          Active            0          201.235294   \n",
      "2                    281         Churned            1          656.333333   \n",
      "3                    661          Active            0          157.000000   \n",
      "4                    845          Active            0          184.000000   \n",
      "\n",
      "   AVG_TICKETS_RAISED  AVG_FEATURE_USAGE  \n",
      "0          101.357143          51.026857  \n",
      "1           98.176471          56.522941  \n",
      "2          309.777778          59.158445  \n",
      "3           75.000000          53.387786  \n",
      "4          107.142857          57.406707  \n"
     ]
    }
   ],
   "source": [
    "import pandas as pd\n",
    "\n",
    "# Load the CSV file into a Pandas DataFrame\n",
    "file_path = 'C:/Users/Parth Badani/Downloads/2025-01-13 4_05pm.csv'  # Update with your file path\n",
    "data = pd.read_csv(file_path)\n",
    "\n",
    "# Display the first few rows of the dataset\n",
    "print(data.head())"
   ]
  },
  {
   "cell_type": "code",
   "execution_count": 21,
   "id": "3beb082d-a420-4b43-9344-0b227f1bca43",
   "metadata": {},
   "outputs": [
    {
     "name": "stdout",
     "output_type": "stream",
     "text": [
      "CUSTOMER_ID              0\n",
      "SEGMENT                  0\n",
      "INDUSTRY                 0\n",
      "COUNTRY                  0\n",
      "PLAN                     0\n",
      "MRR                      0\n",
      "SUBSCRIPTION_DURATION    0\n",
      "CUSTOMER_STATUS          0\n",
      "CHURN_LABEL              0\n",
      "AVG_MONTHLY_LOGINS       0\n",
      "AVG_TICKETS_RAISED       0\n",
      "AVG_FEATURE_USAGE        0\n",
      "dtype: int64\n"
     ]
    }
   ],
   "source": [
    "# Check for missing values\n",
    "print(data.isnull().sum())"
   ]
  },
  {
   "cell_type": "code",
   "execution_count": 22,
   "id": "cd43428f-294d-4d78-9f6c-42e7c8d6aa95",
   "metadata": {},
   "outputs": [
    {
     "name": "stdout",
     "output_type": "stream",
     "text": [
      "       CUSTOMER_ID          MRR  SUBSCRIPTION_DURATION  CHURN_LABEL  \\\n",
      "count  5000.000000  5000.000000            5000.000000   5000.00000   \n",
      "mean   2500.500000  2475.525600             659.601200      0.15660   \n",
      "std    1443.520003  2603.542523             281.627336      0.36346   \n",
      "min       1.000000    75.000000              30.000000      0.00000   \n",
      "25%    1250.750000   525.000000             454.000000      0.00000   \n",
      "50%    2500.500000   975.000000             679.000000      0.00000   \n",
      "75%    3750.250000  4356.000000             897.000000      0.00000   \n",
      "max    5000.000000  9900.000000            1108.000000      1.00000   \n",
      "\n",
      "       AVG_MONTHLY_LOGINS  AVG_TICKETS_RAISED  AVG_FEATURE_USAGE  \n",
      "count         5000.000000         5000.000000        5000.000000  \n",
      "mean           447.944122          223.982020          50.123106  \n",
      "std            310.391901          155.520680          17.722630  \n",
      "min            114.500000           63.666667           0.002423  \n",
      "25%            200.000000          100.000000          41.247374  \n",
      "50%            340.916667          173.000000          50.063984  \n",
      "75%            568.250000          284.000000          58.485894  \n",
      "max           1476.000000          739.000000          99.959840  \n"
     ]
    }
   ],
   "source": [
    "# Get summary statistics\n",
    "print(data.describe())"
   ]
  },
  {
   "cell_type": "code",
   "execution_count": 23,
   "id": "437d0791-d4e2-4973-a87a-9906101d0fe3",
   "metadata": {},
   "outputs": [
    {
     "name": "stdout",
     "output_type": "stream",
     "text": [
      "<class 'pandas.core.frame.DataFrame'>\n",
      "RangeIndex: 5000 entries, 0 to 4999\n",
      "Data columns (total 12 columns):\n",
      " #   Column                 Non-Null Count  Dtype  \n",
      "---  ------                 --------------  -----  \n",
      " 0   CUSTOMER_ID            5000 non-null   int64  \n",
      " 1   SEGMENT                5000 non-null   object \n",
      " 2   INDUSTRY               5000 non-null   object \n",
      " 3   COUNTRY                5000 non-null   object \n",
      " 4   PLAN                   5000 non-null   object \n",
      " 5   MRR                    5000 non-null   int64  \n",
      " 6   SUBSCRIPTION_DURATION  5000 non-null   int64  \n",
      " 7   CUSTOMER_STATUS        5000 non-null   object \n",
      " 8   CHURN_LABEL            5000 non-null   int64  \n",
      " 9   AVG_MONTHLY_LOGINS     5000 non-null   float64\n",
      " 10  AVG_TICKETS_RAISED     5000 non-null   float64\n",
      " 11  AVG_FEATURE_USAGE      5000 non-null   float64\n",
      "dtypes: float64(3), int64(4), object(5)\n",
      "memory usage: 468.9+ KB\n",
      "None\n"
     ]
    }
   ],
   "source": [
    "# Check data types\n",
    "print(data.info())"
   ]
  },
  {
   "cell_type": "code",
   "execution_count": 25,
   "id": "c0dec4f9-572d-469b-98c3-dd3b8cd1f944",
   "metadata": {},
   "outputs": [
    {
     "data": {
      "image/png": "[encoded data removed]",
      "text/plain": [
       "<Figure size 800x600 with 1 Axes>"
      ]
     },
     "metadata": {},
     "output_type": "display_data"
    },
    {
     "name": "stdout",
     "output_type": "stream",
     "text": [
      "\n",
      "Value counts for CHURN_LABEL:\n",
      "CHURN_LABEL\n",
      "0    4217\n",
      "1     783\n",
      "Name: count, dtype: int64\n"
     ]
    }
   ],
   "source": [
    "import seaborn as sns\n",
    "import matplotlib.pyplot as plt\n",
    "\n",
    "# Visualize churn distribution\n",
    "plt.figure(figsize=(8, 6))\n",
    "sns.countplot(x='CHURN_LABEL', data=data)\n",
    "plt.title('Churn Label Distribution')\n",
    "plt.xlabel('Churn Label')\n",
    "plt.ylabel('Count')\n",
    "plt.xticks([0, 1], ['Not Churned', 'Churned'])  # Assuming 0 = Not Churned, 1 = Churned\n",
    "plt.show()\n",
    "\n",
    "# Display the actual counts for churn labels\n",
    "print(\"\\nValue counts for CHURN_LABEL:\")\n",
    "print(data['CHURN_LABEL'].value_counts())"
   ]
  },
  {
   "cell_type": "code",
   "execution_count": 26,
   "id": "931ac5c0-5945-4858-ae19-6d34dba5ad60",
   "metadata": {},
   "outputs": [],
   "source": [
    "# Encode categorical variables\n",
    "data = pd.get_dummies(data, columns=['SEGMENT', 'PLAN', 'COUNTRY'], drop_first=True)"
   ]
  },
  {
   "cell_type": "code",
   "execution_count": 27,
   "id": "109fbbc2-56cb-47c9-b576-07f5b60b0913",
   "metadata": {},
   "outputs": [],
   "source": [
    "# Normalize numerical features\n",
    "from sklearn.preprocessing import StandardScaler\n",
    "\n",
    "scaler = StandardScaler()\n",
    "numerical_features = ['AVG_MONTHLY_LOGINS', 'MRR', 'SUBSCRIPTION_DURATION']\n",
    "data[numerical_features] = scaler.fit_transform(data[numerical_features])"
   ]
  },
  {
   "cell_type": "code",
   "execution_count": 30,
   "id": "7c5b1afb-9526-4e55-9da5-05217d16026f",
   "metadata": {},
   "outputs": [],
   "source": [
    "# Split the dataset into training and testing sets\n",
    "from sklearn.model_selection import train_test_split\n",
    "\n",
    "X = data.drop('CHURN_LABEL', axis=1)  # Features\n",
    "y = data['CHURN_LABEL']  # Target variable\n",
    "\n",
    "X_train, X_test, y_train, y_test = train_test_split(X, y, test_size=0.2, random_state=42)"
   ]
  },
  {
   "cell_type": "code",
   "execution_count": 32,
   "id": "10449058-f585-4a46-a621-8aa63aebc3d7",
   "metadata": {},
   "outputs": [],
   "source": [
    "import pandas as pd\n",
    "import numpy as np\n",
    "from sklearn.model_selection import train_test_split\n",
    "from sklearn.preprocessing import StandardScaler, LabelEncoder\n",
    "from sklearn.linear_model import LogisticRegression\n",
    "from sklearn.metrics import accuracy_score, classification_report, confusion_matrix"
   ]
  },
  {
   "cell_type": "code",
   "execution_count": 45,
   "id": "182f10b4-f25b-43df-be03-35eeefb59bc5",
   "metadata": {},
   "outputs": [],
   "source": [
    "# 1. Encode remaining categorical columns\n",
    "categorical_columns = ['INDUSTRY']  # Only include columns that haven't been encoded yet\n",
    "data_encoded = pd.get_dummies(data, columns=categorical_columns, drop_first=True)"
   ]
  },
  {
   "cell_type": "code",
   "execution_count": 46,
   "id": "95d6ec5d-61c7-4930-aa81-7e2a3b44e177",
   "metadata": {},
   "outputs": [],
   "source": [
    "# 2. Prepare features (X) and target (y)\n",
    "# Remove CUSTOMER_ID, CHURN_LABEL, and CUSTOMER_STATUS_Churned from features\n",
    "X = data_encoded.drop(['CUSTOMER_ID', 'CHURN_LABEL', 'CUSTOMER_STATUS'], axis=1)\n",
    "y = data_encoded['CHURN_LABEL']"
   ]
  },
  {
   "cell_type": "code",
   "execution_count": 47,
   "id": "b63ceaef-fd55-4abe-8d2e-dad6ede10678",
   "metadata": {},
   "outputs": [],
   "source": [
    "# 3. Split the data\n",
    "from sklearn.model_selection import train_test_split\n",
    "X_train, X_test, y_train, y_test = train_test_split(X, y, test_size=0.2, random_state=42)"
   ]
  },
  {
   "cell_type": "code",
   "execution_count": 48,
   "id": "4eead8bc-6f7f-400d-98b3-7fa7034481f8",
   "metadata": {},
   "outputs": [],
   "source": [
    "# 4. Scale the numerical features\n",
    "from sklearn.preprocessing import StandardScaler\n",
    "scaler = StandardScaler()\n",
    "numerical_columns = ['MRR', 'SUBSCRIPTION_DURATION', 'AVG_MONTHLY_LOGINS',\n",
    "                     'AVG_TICKETS_RAISED', 'AVG_FEATURE_USAGE']"
   ]
  },
  {
   "cell_type": "code",
   "execution_count": 49,
   "id": "c6a11496-770e-4860-a1a3-bcfa2dbfdd44",
   "metadata": {},
   "outputs": [],
   "source": [
    "# Create a copy of X_train and X_test as pandas DataFrames\n",
    "X_train_df = pd.DataFrame(X_train, columns=X.columns)\n",
    "X_test_df = pd.DataFrame(X_test, columns=X.columns)\n",
    "\n",
    "# Scale only numerical columns\n",
    "X_train_df[numerical_columns] = scaler.fit_transform(X_train_df[numerical_columns])\n",
    "X_test_df[numerical_columns] = scaler.transform(X_test_df[numerical_columns])"
   ]
  },
  {
   "cell_type": "code",
   "execution_count": 50,
   "id": "758ee89c-a50b-4600-b5f7-047b2e7a66d2",
   "metadata": {},
   "outputs": [],
   "source": [
    "# 5. Train and evaluate the model\n",
    "from sklearn.linear_model import LogisticRegression\n",
    "from sklearn.metrics import accuracy_score, classification_report, confusion_matrix\n",
    "\n",
    "model = LogisticRegression(random_state=42)\n",
    "model.fit(X_train_df, y_train)\n",
    "\n",
    "# Make predictions\n",
    "y_pred = model.predict(X_test_df)"
   ]
  },
  {
   "cell_type": "code",
   "execution_count": 56,
   "id": "022fd696-0225-4802-bab4-aa3b50c74a9d",
   "metadata": {},
   "outputs": [
    {
     "name": "stdout",
     "output_type": "stream",
     "text": [
      "Collecting imbalanced-learn\n",
      "  Downloading imbalanced_learn-0.13.0-py3-none-any.whl.metadata (8.8 kB)\n",
      "Requirement already satisfied: numpy<3,>=1.24.3 in c:\\users\\parth badani\\appdata\\local\\programs\\python\\python312\\lib\\site-packages (from imbalanced-learn) (1.26.4)\n",
      "Requirement already satisfied: scipy<2,>=1.10.1 in c:\\users\\parth badani\\appdata\\local\\programs\\python\\python312\\lib\\site-packages (from imbalanced-learn) (1.14.1)\n",
      "Requirement already satisfied: scikit-learn<2,>=1.3.2 in c:\\users\\parth badani\\appdata\\local\\programs\\python\\python312\\lib\\site-packages (from imbalanced-learn) (1.5.1)\n",
      "Collecting sklearn-compat<1,>=0.1 (from imbalanced-learn)\n",
      "  Downloading sklearn_compat-0.1.3-py3-none-any.whl.metadata (18 kB)\n",
      "Requirement already satisfied: joblib<2,>=1.1.1 in c:\\users\\parth badani\\appdata\\local\\programs\\python\\python312\\lib\\site-packages (from imbalanced-learn) (1.4.2)\n",
      "Requirement already satisfied: threadpoolctl<4,>=2.0.0 in c:\\users\\parth badani\\appdata\\local\\programs\\python\\python312\\lib\\site-packages (from imbalanced-learn) (3.5.0)\n",
      "Downloading imbalanced_learn-0.13.0-py3-none-any.whl (238 kB)\n",
      "Downloading sklearn_compat-0.1.3-py3-none-any.whl (18 kB)\n",
      "Installing collected packages: sklearn-compat, imbalanced-learn\n",
      "Successfully installed imbalanced-learn-0.13.0 sklearn-compat-0.1.3\n",
      "Note: you may need to restart the kernel to use updated packages.\n"
     ]
    }
   ],
   "source": [
    "pip install imbalanced-learn"
   ]
  },
  {
   "cell_type": "code",
   "execution_count": 57,
   "id": "2507a66d-1081-4225-b4ad-05bbfcc3f6a1",
   "metadata": {},
   "outputs": [
    {
     "name": "stdout",
     "output_type": "stream",
     "text": [
      "Accuracy: 0.985\n",
      "\n",
      "Classification Report:\n",
      "               precision    recall  f1-score   support\n",
      "\n",
      "           0       1.00      0.99      0.99       845\n",
      "           1       0.93      0.97      0.95       155\n",
      "\n",
      "    accuracy                           0.98      1000\n",
      "   macro avg       0.96      0.98      0.97      1000\n",
      "weighted avg       0.99      0.98      0.99      1000\n",
      "\n",
      "\n",
      "Confusion Matrix:\n",
      " [[834  11]\n",
      " [  4 151]]\n"
     ]
    },
    {
     "name": "stderr",
     "output_type": "stream",
     "text": [
      "C:\\Users\\Parth Badani\\AppData\\Local\\Programs\\Python\\Python312\\Lib\\site-packages\\sklearn\\linear_model\\_logistic.py:469: ConvergenceWarning: lbfgs failed to converge (status=1):\n",
      "STOP: TOTAL NO. of ITERATIONS REACHED LIMIT.\n",
      "\n",
      "Increase the number of iterations (max_iter) or scale the data as shown in:\n",
      "    https://scikit-learn.org/stable/modules/preprocessing.html\n",
      "Please also refer to the documentation for alternative solver options:\n",
      "    https://scikit-learn.org/stable/modules/linear_model.html#logistic-regression\n",
      "  n_iter_i = _check_optimize_result(\n"
     ]
    }
   ],
   "source": [
    "from imblearn.over_sampling import SMOTE\n",
    "from sklearn.model_selection import train_test_split\n",
    "from sklearn.linear_model import LogisticRegression\n",
    "from sklearn.metrics import classification_report, confusion_matrix, accuracy_score\n",
    "\n",
    "# Split the data into training and testing sets\n",
    "X_train, X_test, y_train, y_test = train_test_split(X, y, test_size=0.2, random_state=42)\n",
    "\n",
    "# Apply SMOTE to the training data\n",
    "smote = SMOTE(random_state=42)\n",
    "X_train_smote, y_train_smote = smote.fit_resample(X_train, y_train)\n",
    "\n",
    "# Train the model on the oversampled data\n",
    "model = LogisticRegression(random_state=42)\n",
    "model.fit(X_train_smote, y_train_smote)\n",
    "\n",
    "# Make predictions on the test set\n",
    "y_pred = model.predict(X_test)\n",
    "\n",
    "# Evaluate the model\n",
    "print(\"Accuracy:\", accuracy_score(y_test, y_pred))\n",
    "print(\"\\nClassification Report:\\n\", classification_report(y_test, y_pred))\n",
    "print(\"\\nConfusion Matrix:\\n\", confusion_matrix(y_test, y_pred))"
   ]
  },
  {
   "cell_type": "code",
   "execution_count": 58,
   "id": "a00732c6-edee-419a-b710-810a0a89ae9a",
   "metadata": {},
   "outputs": [
    {
     "name": "stdout",
     "output_type": "stream",
     "text": [
      "\n",
      "Top 10 Most Important Features:\n",
      "                  Feature  Importance\n",
      "1   SUBSCRIPTION_DURATION   12.308308\n",
      "2      AVG_MONTHLY_LOGINS    3.982063\n",
      "7             PLAN_Growth    3.163870\n",
      "8                PLAN_Pro    1.140580\n",
      "9          COUNTRY_Brazil    1.037213\n",
      "25        INDUSTRY_Retail    0.828120\n",
      "26    INDUSTRY_Technology    0.827398\n",
      "24   INDUSTRY_Real Estate    0.820352\n",
      "16             COUNTRY_UK    0.745403\n",
      "19    INDUSTRY_Healthcare    0.724600\n"
     ]
    },
    {
     "data": {
      "image/png": "[encoded data removed]",
      "text/plain": [
       "<Figure size 1200x600 with 1 Axes>"
      ]
     },
     "metadata": {},
     "output_type": "display_data"
    }
   ],
   "source": [
    "# Feature importance\n",
    "feature_importance = pd.DataFrame({\n",
    "    'Feature': X.columns,\n",
    "    'Importance': abs(model.coef_[0])\n",
    "})\n",
    "feature_importance = feature_importance.sort_values('Importance', ascending=False)\n",
    "\n",
    "print(\"\\nTop 10 Most Important Features:\")\n",
    "print(feature_importance.head(10))\n",
    "\n",
    "# Optional: Visualize feature importance\n",
    "import matplotlib.pyplot as plt\n",
    "import seaborn as sns\n",
    "\n",
    "plt.figure(figsize=(12, 6))\n",
    "sns.barplot(x='Importance', y='Feature', data=feature_importance.head(10))\n",
    "plt.title('Top 10 Most Important Features for Churn Prediction (with SMOTE)')\n",
    "plt.xticks(rotation=45)\n",
    "plt.tight_layout()\n",
    "plt.show()"
   ]
  },
  {
   "cell_type": "code",
   "execution_count": 59,
   "id": "caf44138-4d7a-4b83-b74c-a6677b554255",
   "metadata": {},
   "outputs": [
    {
     "name": "stdout",
     "output_type": "stream",
     "text": [
      "Accuracy: 0.976\n",
      "\n",
      "Classification Report:\n",
      "               precision    recall  f1-score   support\n",
      "\n",
      "           0       1.00      0.97      0.99       845\n",
      "           1       0.87      0.99      0.93       155\n",
      "\n",
      "    accuracy                           0.98      1000\n",
      "   macro avg       0.94      0.98      0.96      1000\n",
      "weighted avg       0.98      0.98      0.98      1000\n",
      "\n",
      "\n",
      "Confusion Matrix:\n",
      " [[823  22]\n",
      " [  2 153]]\n"
     ]
    },
    {
     "name": "stderr",
     "output_type": "stream",
     "text": [
      "C:\\Users\\Parth Badani\\AppData\\Local\\Programs\\Python\\Python312\\Lib\\site-packages\\sklearn\\linear_model\\_logistic.py:469: ConvergenceWarning: lbfgs failed to converge (status=1):\n",
      "STOP: TOTAL NO. of ITERATIONS REACHED LIMIT.\n",
      "\n",
      "Increase the number of iterations (max_iter) or scale the data as shown in:\n",
      "    https://scikit-learn.org/stable/modules/preprocessing.html\n",
      "Please also refer to the documentation for alternative solver options:\n",
      "    https://scikit-learn.org/stable/modules/linear_model.html#logistic-regression\n",
      "  n_iter_i = _check_optimize_result(\n"
     ]
    }
   ],
   "source": [
    "from sklearn.linear_model import LogisticRegression\n",
    "from sklearn.metrics import classification_report, confusion_matrix, accuracy_score\n",
    "\n",
    "# Train the model with class weights\n",
    "model = LogisticRegression(random_state=42, class_weight='balanced')\n",
    "model.fit(X_train, y_train)\n",
    "\n",
    "# Make predictions on the test set\n",
    "y_pred = model.predict(X_test)\n",
    "\n",
    "# Evaluate the model\n",
    "print(\"Accuracy:\", accuracy_score(y_test, y_pred))\n",
    "print(\"\\nClassification Report:\\n\", classification_report(y_test, y_pred))\n",
    "print(\"\\nConfusion Matrix:\\n\", confusion_matrix(y_test, y_pred))"
   ]
  },
  {
   "cell_type": "code",
   "execution_count": 60,
   "id": "383dbb62-2803-4467-a647-c8e3d98bf4b6",
   "metadata": {},
   "outputs": [
    {
     "name": "stdout",
     "output_type": "stream",
     "text": [
      "\n",
      "Top 10 Most Important Features:\n",
      "                   Feature  Importance\n",
      "1    SUBSCRIPTION_DURATION   11.723121\n",
      "7              PLAN_Growth    2.500749\n",
      "2       AVG_MONTHLY_LOGINS    2.333340\n",
      "10          COUNTRY_Canada    1.042173\n",
      "8                 PLAN_Pro    1.008941\n",
      "14           COUNTRY_Japan    0.793900\n",
      "20      INDUSTRY_Logistics    0.755998\n",
      "13           COUNTRY_India    0.714695\n",
      "21  INDUSTRY_Manufacturing    0.591578\n",
      "9           COUNTRY_Brazil    0.516090\n"
     ]
    },
    {
     "data": {
      "image/png": "[encoded data removed]",
      "text/plain": [
       "<Figure size 1200x600 with 1 Axes>"
      ]
     },
     "metadata": {},
     "output_type": "display_data"
    }
   ],
   "source": [
    "# Feature importance\n",
    "feature_importance = pd.DataFrame({\n",
    "    'Feature': X.columns,\n",
    "    'Importance': abs(model.coef_[0])\n",
    "})\n",
    "feature_importance = feature_importance.sort_values('Importance', ascending=False)\n",
    "\n",
    "print(\"\\nTop 10 Most Important Features:\")\n",
    "print(feature_importance.head(10))\n",
    "\n",
    "# Optional: Visualize feature importance\n",
    "import matplotlib.pyplot as plt\n",
    "import seaborn as sns\n",
    "\n",
    "plt.figure(figsize=(12, 6))\n",
    "sns.barplot(x='Importance', y='Feature', data=feature_importance.head(10))\n",
    "plt.title('Top 10 Most Important Features for Churn Prediction (with SMOTE)')\n",
    "plt.xticks(rotation=45)\n",
    "plt.tight_layout()\n",
    "plt.show()"
   ]
  },
  {
   "cell_type": "code",
   "execution_count": 61,
   "id": "b460efd9-8833-4bd3-a127-ecdd0487073d",
   "metadata": {},
   "outputs": [],
   "source": [
    "import pandas as pd\n",
    "import numpy as np\n",
    "\n",
    "# 1. Get predictions and probabilities for all data\n",
    "# First, scale the numerical features for the entire dataset\n",
    "numerical_columns = ['MRR', 'SUBSCRIPTION_DURATION', 'AVG_MONTHLY_LOGINS',\n",
    "                    'AVG_TICKETS_RAISED', 'AVG_FEATURE_USAGE']\n",
    "\n",
    "X_scaled = X.copy()\n",
    "X_scaled[numerical_columns] = scaler.transform(X_scaled[numerical_columns])\n",
    "\n",
    "# Get predictions and probabilities\n",
    "predictions = model.predict(X_scaled)\n",
    "prediction_probabilities = model.predict_proba(X_scaled)[:, 1]  # Probability of churn (class 1)"
   ]
  },
  {
   "cell_type": "code",
   "execution_count": 63,
   "id": "549d1baf-ac2b-4bff-9da9-37b24f6ae2c9",
   "metadata": {},
   "outputs": [
    {
     "name": "stdout",
     "output_type": "stream",
     "text": [
      "Available columns in the dataset:\n",
      "['CUSTOMER_ID', 'INDUSTRY', 'MRR', 'SUBSCRIPTION_DURATION', 'CUSTOMER_STATUS', 'CHURN_LABEL', 'AVG_MONTHLY_LOGINS', 'AVG_TICKETS_RAISED', 'AVG_FEATURE_USAGE', 'SEGMENT_Mid-Market', 'SEGMENT_SMB', 'PLAN_Growth', 'PLAN_Pro', 'COUNTRY_Brazil', 'COUNTRY_Canada', 'COUNTRY_France', 'COUNTRY_Germany', 'COUNTRY_India', 'COUNTRY_Japan', 'COUNTRY_Singapore', 'COUNTRY_UK', 'COUNTRY_USA']\n"
     ]
    }
   ],
   "source": [
    "# Check the column names in the DataFrame\n",
    "print(\"Available columns in the dataset:\")\n",
    "print(data.columns.tolist())"
   ]
  },
  {
   "cell_type": "code",
   "execution_count": 64,
   "id": "d3e7cbb5-32de-4fa4-af98-cadb60444232",
   "metadata": {},
   "outputs": [],
   "source": [
    "# First, let's load the original data again\n",
    "file_path = 'C:/Users/Parth Badani/Downloads/2025-01-13 4_05pm.csv'\n",
    "original_data = pd.read_csv(file_path)"
   ]
  },
  {
   "cell_type": "code",
   "execution_count": 65,
   "id": "e3bd25d3-8141-402a-a6be-901f25f99028",
   "metadata": {},
   "outputs": [],
   "source": [
    "# Create the final dataset\n",
    "final_dataset = pd.DataFrame({\n",
    "    # Customer Identification\n",
    "    'CUSTOMER_ID': original_data['CUSTOMER_ID'],\n",
    "    'SEGMENT': original_data['SEGMENT'],\n",
    "    'INDUSTRY': original_data['INDUSTRY'],\n",
    "    'COUNTRY': original_data['COUNTRY'],\n",
    "    'PLAN': original_data['PLAN'],\n",
    "\n",
    "    # Key Business Metrics\n",
    "    'MRR': original_data['MRR'],\n",
    "    'SUBSCRIPTION_DURATION': original_data['SUBSCRIPTION_DURATION'],\n",
    "\n",
    "    # Usage Metrics\n",
    "    'AVG_MONTHLY_LOGINS': original_data['AVG_MONTHLY_LOGINS'],\n",
    "    'AVG_TICKETS_RAISED': original_data['AVG_TICKETS_RAISED'],\n",
    "    'AVG_FEATURE_USAGE': original_data['AVG_FEATURE_USAGE'],\n",
    "\n",
    "    # Actual and Predicted Churn\n",
    "    'ACTUAL_CHURN': original_data['CHURN_LABEL'],\n",
    "    'PREDICTED_CHURN': predictions,\n",
    "    'CHURN_PROBABILITY': prediction_probabilities,\n",
    "\n",
    "    # Current Status\n",
    "    'CUSTOMER_STATUS': original_data['CUSTOMER_STATUS']\n",
    "})"
   ]
  },
  {
   "cell_type": "code",
   "execution_count": 66,
   "id": "46f36d33-0ec4-4098-8e24-a1b12d5f4cf5",
   "metadata": {},
   "outputs": [],
   "source": [
    "# Add Risk Level based on churn probability\n",
    "def get_risk_level(probability):\n",
    "    if probability < 0.3:\n",
    "        return 'Low Risk'\n",
    "    elif probability < 0.7:\n",
    "        return 'Medium Risk'\n",
    "    else:\n",
    "        return 'High Risk'\n",
    "\n",
    "final_dataset['RISK_LEVEL'] = final_dataset['CHURN_PROBABILITY'].apply(get_risk_level)\n",
    "\n",
    "# Calculate Monthly Revenue at Risk\n",
    "final_dataset['REVENUE_AT_RISK'] = final_dataset['MRR'] * final_dataset['CHURN_PROBABILITY']"
   ]
  },
  {
   "cell_type": "code",
   "execution_count": 67,
   "id": "b68d12de-6b08-4476-af8e-cf82b74e5522",
   "metadata": {},
   "outputs": [
    {
     "name": "stdout",
     "output_type": "stream",
     "text": [
      "Main dataset saved as: C:/Users/Parth Badani/churn_prediction_results.csv\n"
     ]
    }
   ],
   "source": [
    "# Save the final dataset\n",
    "output_path = 'C:/Users/Parth Badani/churn_prediction_results.csv'\n",
    "final_dataset.to_csv(output_path, index=False)\n",
    "print(f\"Main dataset saved as: {output_path}\")"
   ]
  },
  {
   "cell_type": "code",
   "execution_count": 68,
   "id": "af4fb050-7401-45ed-9143-f837e33f30bf",
   "metadata": {},
   "outputs": [
    {
     "name": "stdout",
     "output_type": "stream",
     "text": [
      "\n",
      "Sample of the final dataset:\n",
      "   CUSTOMER_ID SEGMENT                    INDUSTRY    COUNTRY    PLAN   MRR  \\\n",
      "0            1     SMB  Financial Services/Fintech     France  Growth   210   \n",
      "1            2     SMB       Professional Services      Japan  Growth   615   \n",
      "2            3     SMB                   Education  Singapore     Pro  6468   \n",
      "3            4     SMB  Financial Services/Fintech     Canada  Growth   780   \n",
      "4            5     SMB                  Healthcare  Australia  Growth   900   \n",
      "\n",
      "   SUBSCRIPTION_DURATION  AVG_MONTHLY_LOGINS  AVG_TICKETS_RAISED  \\\n",
      "0                    436          207.071429          101.357143   \n",
      "1                   1078          201.235294           98.176471   \n",
      "2                    281          656.333333          309.777778   \n",
      "3                    661          157.000000           75.000000   \n",
      "4                    845          184.000000          107.142857   \n",
      "\n",
      "   AVG_FEATURE_USAGE  ACTUAL_CHURN  PREDICTED_CHURN  CHURN_PROBABILITY  \\\n",
      "0          51.026857             0                0       3.858734e-01   \n",
      "1          56.522941             0                0       7.473083e-13   \n",
      "2          59.158445             1                1       9.999838e-01   \n",
      "3          53.387786             0                0       1.594370e-05   \n",
      "4          57.406707             0                0       4.344221e-08   \n",
      "\n",
      "  CUSTOMER_STATUS   RISK_LEVEL  REVENUE_AT_RISK  \n",
      "0          Active  Medium Risk     8.103341e+01  \n",
      "1          Active     Low Risk     4.595946e-10  \n",
      "2         Churned    High Risk     6.467896e+03  \n",
      "3          Active     Low Risk     1.243609e-02  \n",
      "4          Active     Low Risk     3.909799e-05  \n"
     ]
    }
   ],
   "source": [
    "# Display sample of the final dataset\n",
    "print(\"\\nSample of the final dataset:\")\n",
    "print(final_dataset.head())"
   ]
  },
  {
   "cell_type": "code",
   "execution_count": 69,
   "id": "8aa99bda-4e23-4972-8cf6-ee33711446bd",
   "metadata": {},
   "outputs": [
    {
     "name": "stdout",
     "output_type": "stream",
     "text": [
      "\n",
      "Summary of predictions:\n",
      "Total customers: 5000\n",
      "Predicted churns: 1480\n",
      "Total monthly revenue at risk: $4,407,167.46\n",
      "\n",
      "Risk level distribution:\n",
      "RISK_LEVEL\n",
      "Low Risk       3390\n",
      "High Risk      1357\n",
      "Medium Risk     253\n",
      "Name: count, dtype: int64\n"
     ]
    }
   ],
   "source": [
    "# Display summary statistics\n",
    "print(\"\\nSummary of predictions:\")\n",
    "print(f\"Total customers: {len(final_dataset)}\")\n",
    "print(f\"Predicted churns: {sum(predictions)}\")\n",
    "print(f\"Total monthly revenue at risk: ${final_dataset['REVENUE_AT_RISK'].sum():,.2f}\")\n",
    "print(\"\\nRisk level distribution:\")\n",
    "print(final_dataset['RISK_LEVEL'].value_counts())"
   ]
  },
  {
   "cell_type": "code",
   "execution_count": null,
   "id": "dcf6dfa2-5fc9-45c7-a1aa-78c49e2b6e14",
   "metadata": {},
   "outputs": [],
   "source": []
  }
 ],
 "metadata": {
  "kernelspec": {
   "display_name": "Python 3 (ipykernel)",
   "language": "python",
   "name": "python3"
  },
  "language_info": {
   "codemirror_mode": {
    "name": "ipython",
    "version": 3
   },
   "file_extension": ".py",
   "mimetype": "text/x-python",
   "name": "python",
   "nbconvert_exporter": "python",
   "pygments_lexer": "ipython3",
   "version": "3.12.5"
  }
 },
 "nbformat": 4,
 "nbformat_minor": 5
}
